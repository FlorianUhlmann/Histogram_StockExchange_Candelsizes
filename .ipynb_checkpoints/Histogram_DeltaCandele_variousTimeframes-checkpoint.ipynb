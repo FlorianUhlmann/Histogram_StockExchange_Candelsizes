{
 "cells": [
  {
   "cell_type": "code",
   "execution_count": 1,
   "metadata": {},
   "outputs": [],
   "source": [
    "import pandas as pd\n",
    "import numpy as np\n",
    "import matplotlib.pyplot as plt\n",
    "import re"
   ]
  },
  {
   "cell_type": "markdown",
   "metadata": {},
   "source": [
    "#### LockUp Tables"
   ]
  },
  {
   "cell_type": "code",
   "execution_count": 2,
   "metadata": {},
   "outputs": [],
   "source": [
    "digitsOfSymbolAtAdmiralMarket = { \"GOLD\" : 3,\"SILVER\" : 3,\"WTI\" : 2,\"CRUDOIL\" : 2,'NGAS': 3,\"BRENT\" : 2,\"[CAC40]\":2,\n",
    "            \"[TECDAX30]\":2,\"[DAX30]\":2,\n",
    "            \"[DJI30]\":2,\"[FTSE100]\":2,\"[HSCEI50]\":1,\"[HSI50]\":2,\"[JP225]\":2,\"[NQ100]\":2,\"[UK100]\":2,\"[SP500]\":2,\"BTCUSD\":2,\n",
    "            \"AUDCAD\" : 5,\"AUDCHF\" : 5,\"AUDJPY\" : 3,\"AUDNZD\" : 5,\"AUDUSD\" : 5,\"CADCHF\" : 5,\"CADJPY\" : 3,\"CHFJPY\" : 3,\"EURAUD\" : 5,\n",
    "            \"EURCAD\" : 5,\"EURCHF\" : 5,\"EURCZK\" : 4,\"EURGBP\" : 5,\"EURHUF\" : 3,\"EURJPY\" : 3,\"EURNZD\" : 3,\"EURPLZ\" : 5,\"EURRUB\" : 5,\n",
    "            \"EURUSD\" : 5,\"GBPAUD\" : 5,\"GBPCAD\" : 5,\"GBPCHF\" : 5,\"GBPJPY\" : 3,\"GBPNZD\" : 5,\"GBPUSD\" : 5,\"NZDCAD\" : 5,\"NZDCHF\" : 5,\n",
    "            \"NZDJPY\" : 3,\"NZDUSD\" : 5,\"USDBRL\" : 4,\"USDCAD\" : 5,\"USDCHF\" : 5,\"USDCLP\" : 2,\"USDCNH\" : 4,\"USDCZK\" : 4,\"USDJPY\" : 3,\n",
    "            \"USDHUF\" : 4,\"USDMXN\" : 5,\"USDPLZ\" : 5,\"USDRON\" : 5,\"USDRUB\" : 5,\"USDNOK\" : 5,\"USDTRY\" : 5,\"USDZAR\" : 5}\n",
    "def convertSymbolName(tmpSymbol):\n",
    "    lockup = { \"XAUUSD\" : \"GOLD\", \"AUXUSD\": \"SILVER\", \"SPXUSD\" : \"[SP500]\", \"JPXJPY\": \"[JP225]\", \"NSXUSD\": \"[NQ100]\",\n",
    "               \"UKXGBP\": \"[FTSE100]\", \"GRXEUR\": \"[DAX30]\", \"HKXHKD\": \"[HSI50]\",\"WTIUSD\":\"WTI\", \"BCOUSD\":\"CRUDOIL\", \"ETXEUR\":\"EUROSTOXX\"}\n",
    "    return lockup.get(tmpSymbol, tmpSymbol)"
   ]
  },
  {
   "cell_type": "markdown",
   "metadata": {},
   "source": [
    "# Import File"
   ]
  },
  {
   "cell_type": "code",
   "execution_count": 3,
   "metadata": {},
   "outputs": [
    {
     "name": "stdout",
     "output_type": "stream",
     "text": [
      "./Data//DAT_MT_WTIUSD_M1_2019.csv\n"
     ]
    }
   ],
   "source": [
    "year = '2019'\n",
    "symbol = 'WTIUSD'\n",
    "#decimalDigits is Broker Specific and need lookUpTable \n",
    "amountDecimalDigits = digitsOfSymbolAtAdmiralMarket[convertSymbolName(symbol)]\n",
    "\n",
    "path = './Data/'\n",
    "filename = '/DAT_MT_'+symbol+'_M1_2019.csv'\n",
    "print(path+filename)\n",
    "filePath= path+filename\n",
    "df = pd.read_csv(filePath,header=0)\n",
    "df=df.round(amountDecimalDigits)\n"
   ]
  },
  {
   "cell_type": "markdown",
   "metadata": {},
   "source": [
    "# Generate DataFrames in M1 M5 M15 M30 H1 H4"
   ]
  },
  {
   "cell_type": "code",
   "execution_count": 5,
   "metadata": {},
   "outputs": [],
   "source": [
    "#delete column 'volume'\n",
    "df = df.drop('volume',axis='columns')\n",
    "#join column 'time'&&'date' in 'fulltime'\n",
    "df['fulltime'] = pd.to_datetime(df['date']+' '+df['time'])\n",
    "#drop column 'time'&&'date'\n",
    "df.drop(['date','time'], axis = 1, inplace=True)\n",
    "#rename column 'fulltime' -> 'time'\n",
    "df.rename({'fulltime':'time'}, axis = 'columns',inplace=True)\n",
    "#set column 'time' from type array to datetime\n",
    "df['time'] = pd.to_datetime(df['time'])\n",
    "#set column 'time' to index\n",
    "df = df.set_index('time')\n",
    "\n",
    "#calculate dataframe M1 M5 M15 M30 H1 H4\n",
    "dataframe = symbol+'_'+year+'_'\n",
    "\n",
    "dataframe_M1= df\n",
    "dataframe_M5 = df.resample('5Min').agg({'open': 'first', \n",
    "                                 'high': 'max', \n",
    "                                 'low': 'min', \n",
    "                                 'close': 'last'})\n",
    "dataframe_M15 = df.resample('15Min').agg({'open': 'first', \n",
    "                                 'high': 'max', \n",
    "                                 'low': 'min', \n",
    "                                 'close': 'last'})\n",
    "dataframe_M30 = df.resample('30Min').agg({'open': 'first', \n",
    "                                 'high': 'max', \n",
    "                                 'low': 'min', \n",
    "                                 'close': 'last'})\n",
    "dataframe_H1 = df.resample('60Min').agg({'open': 'first', \n",
    "                                 'high': 'max', \n",
    "                                 'low': 'min', \n",
    "                                 'close': 'last'})\n",
    "dataframe_H4 = df.resample('240Min').agg({'open': 'first', \n",
    "                                 'high': 'max', \n",
    "                                 'low': 'min', \n",
    "                                 'close': 'last'})\n",
    "\n"
   ]
  },
  {
   "cell_type": "markdown",
   "metadata": {},
   "source": [
    "### in DataFrames add column 'deltaPips'\n",
    "##### deltaPips = high - low"
   ]
  },
  {
   "cell_type": "code",
   "execution_count": 6,
   "metadata": {},
   "outputs": [],
   "source": [
    "allDataFrames =  [dataframe_M1,dataframe_M5,dataframe_M15,dataframe_M30,dataframe_H1,dataframe_H4]\n",
    "for buff in allDataFrames:\n",
    "    buff.dropna(inplace=True)\n",
    "    buff['deltaPips'] = pd.eval(('buff.high-buff.low'))\n",
    "    buff['deltaPips'] = buff['deltaPips'] *1 *10 ** amountDecimalDigits\n",
    "    buff['deltaPips'] = buff['deltaPips'].astype(int)\n"
   ]
  },
  {
   "cell_type": "markdown",
   "metadata": {},
   "source": [
    "## Calculate Percentiles\n",
    "#### Percentile 80%, 95% calculated\n",
    "#### all 'deltaPips' values  above the 95% percentile are converted to \" 95% percentile 'deltaPip' value\"+1"
   ]
  },
  {
   "cell_type": "code",
   "execution_count": 10,
   "metadata": {},
   "outputs": [],
   "source": [
    "#hist_M1 = dataframe_M1['deltaPips'].hist(bins=2935)\n",
    "#['M1',dataframe_M1['deltaPips'].describe(percentiles=[0.25,0.5,0.75,0.8,0.9,0.95,1])]\n",
    "# get values of describe() in variable\n",
    "describe_M1 = dataframe_M1['deltaPips'].describe(percentiles=[0.25,0.5,0.75,0.8,0.9,0.95,1])\n",
    "# save value of 95 percentile in value\n",
    "hist_M1_value_percentile_95 = round(describe_M1['95%'])\n",
    "hist_M1_value_percentile_80 = round(describe_M1['80%'])\n",
    "#drop NA\n",
    "dataframe_M1_95percentile = dataframe_M1.dropna()\n",
    "# convert float to int\n",
    "dataframe_M1_95percentile['deltaPips'] = np.int32(dataframe_M1['deltaPips'])\n",
    "# write all value > 95% percentile into one candleSize => percentile_95 +1\n",
    "dataframe_M1_95percentile['deltaPips'] = dataframe_M1['deltaPips'].apply( lambda x: hist_M1_value_percentile_95+1 if x > hist_M1_value_percentile_95 else x)\n",
    "\n",
    "\n",
    "######################################################################################################################\n",
    "#Prepare Data for M5 DataFrame\n",
    "######################################################################################################################\n",
    "describe_M5 = dataframe_M5['deltaPips'].describe(percentiles=[0.25,0.5,0.75,0.8,0.9,0.95,1])\n",
    "# save value of 95 percentile in value\n",
    "hist_M5_value_percentile_95 = round(describe_M5['95%'])\n",
    "hist_M5_value_percentile_80 = round(describe_M5['80%'])\n",
    "\n",
    "#drop NA\n",
    "dataframe_M5_95percentile = dataframe_M5.dropna()\n",
    "# convert float to int\n",
    "dataframe_M5_95percentile['deltaPips'] = np.int64(dataframe_M5_95percentile['deltaPips'])\n",
    "# write all value > 95% percentile into one candleSize => percentile_95 +1\n",
    "dataframe_M5_95percentile['deltaPips'] = dataframe_M5_95percentile['deltaPips'].apply( lambda x: hist_M5_value_percentile_95+1 if x > hist_M5_value_percentile_95 else x)\n",
    "\n",
    "######################################################################################################################\n",
    "#Prepare Data for M30 DataFrame\n",
    "######################################################################################################################\n",
    "describe_M30 = dataframe_M30['deltaPips'].describe(percentiles=[0.25,0.5,0.75,0.8,0.9,0.95,1])\n",
    "# save value of 95 percentile in value\n",
    "hist_M30_value_percentile_95 = round(describe_M30['95%'])\n",
    "hist_M30_value_percentile_80 = round(describe_M30['80%'])\n",
    "\n",
    "#drop NA\n",
    "dataframe_M30_95percentile = dataframe_M30.dropna()\n",
    "# convert float to int\n",
    "dataframe_M30_95percentile['deltaPips'] = np.int32(dataframe_M30_95percentile['deltaPips'])\n",
    "# write all value > 95% percentile into one candleSize => percentile_95 +1\n",
    "dataframe_M30_95percentile['deltaPips'] = dataframe_M30_95percentile['deltaPips'].apply( lambda x: hist_M30_value_percentile_95+1 if x > hist_M30_value_percentile_95 else x)\n",
    "\n",
    "\n",
    "\n",
    "######################################################################################################################\n",
    "#Prepare Data for H1 DataFrame\n",
    "######################################################################################################################\n",
    "describe_H1 = dataframe_H1['deltaPips'].describe(percentiles=[0.25,0.5,0.75,0.8,0.9,0.95,1])\n",
    "# save value of 95 percentile in value\n",
    "hist_H1_value_percentile_95 = round(describe_H1['95%'])\n",
    "hist_H1_value_percentile_80 = round(describe_H1['80%'])\n",
    "\n",
    "#drop NA\n",
    "dataframe_H1_95percentile = dataframe_H1.dropna()\n",
    "# convert float to int\n",
    "dataframe_H1_95percentile['deltaPips'] = np.int32(dataframe_H1_95percentile['deltaPips'])\n",
    "# write all value > 95% percentile into one candleSize => percentile_95 +1\n",
    "dataframe_H1_95percentile['deltaPips'] = dataframe_H1_95percentile['deltaPips'].apply( lambda x: hist_H1_value_percentile_95+1 if x > hist_H1_value_percentile_95 else x)"
   ]
  },
  {
   "cell_type": "markdown",
   "metadata": {},
   "source": [
    "# Generate Plot mit Bokeh\n",
    "### generate histogram for M1 M5 M15 M30 H1 H4\n",
    "### plot all histograms in one view"
   ]
  },
  {
   "cell_type": "code",
   "execution_count": 11,
   "metadata": {},
   "outputs": [],
   "source": [
    "#['M1',dataframe_M1['deltaPips'].describe(),'M5',dataframe_M5['deltaPips'].describe(),'M15',dataframe_M15['deltaPips'].describe(),'M30',dataframe_M30['deltaPips'].describe(),'H1',dataframe_H1['deltaPips'].describe(),'H4',dataframe_H4['deltaPips'].describe()]"
   ]
  },
  {
   "cell_type": "code",
   "execution_count": 12,
   "metadata": {},
   "outputs": [],
   "source": [
    "import scipy.special\n",
    "\n",
    "from bokeh.layouts import gridplot\n",
    "from bokeh.plotting import figure, output_file, show\n",
    "from bokeh.io import curdoc, show\n",
    "from bokeh.models import ColumnDataSource, Grid, Line, LinearAxis, Plot\n",
    "\n",
    "\n",
    "def make_plot(title, hist, edges, position_vline):\n",
    "    p = figure(title=title, tools='', background_fill_color=\"#fafafa\")\n",
    "    p.quad(top=hist, bottom=0, left=edges[:-1], right=edges[1:],\n",
    "           fill_color=\"navy\", line_color=\"white\")\n",
    "    p.line([position_vline,position_vline], [0,max(hist)*0.2], line_color=\"orange\", line_width=2, legend_label=\"80%_percentile at\\n\"+str(position_vline)+\" pips\")\n",
    "    p.y_range.start = 0\n",
    "    p.legend.location = \"center_right\"\n",
    "    p.legend.background_fill_color = \"#fefefe\"\n",
    "    p.xaxis.axis_label = 'Candle Size ( Valmax-Valmin in respective Timeframe)'\n",
    "    p.yaxis.axis_label = 'Counts'\n",
    "    p.grid.grid_line_color=\"white\"\n",
    "    return p\n",
    "\n",
    "####################################################\n",
    "# M1 hist\n",
    "\n",
    "plotname = symbol +\" \" +year +\" M1\" \n",
    "\n",
    "measured =  dataframe_M1_95percentile['deltaPips']\n",
    "edges_improved = np.histogram_bin_edges(measured, bins=\"auto\")\n",
    "\n",
    "\n",
    "hist, edges = np.histogram(measured,bins= edges_improved, density=False)\n",
    "\n",
    "hist_M1 = make_plot(plotname, hist, edges,hist_M1_value_percentile_80)\n",
    "\n",
    "#possible bins > rice scott doane fd sqrt auto\n",
    "####################################################\n",
    "# M5 hist\n",
    "\n",
    "plotname = symbol +\" \" +year +\" M5\" \n",
    "\n",
    "measured =  dataframe_M5_95percentile['deltaPips']\n",
    "edges_improved = np.histogram_bin_edges(measured, bins=\"sqrt\")\n",
    "\n",
    "hist, edges = np.histogram(measured, bins= edges_improved,  density=True)\n",
    "hist_M5 = make_plot(plotname, hist, edges,hist_M5_value_percentile_80)\n",
    "\n",
    "####################################################\n",
    "# M30 hist\n",
    "\n",
    "plotname = symbol +\" \" +year +\" M30\" \n",
    "\n",
    "measured =  dataframe_M30_95percentile['deltaPips']\n",
    "edges_improved = np.histogram_bin_edges(measured, bins=\"sqrt\")\n",
    "hist, edges = np.histogram(measured, bins= edges_improved, density=False,)\n",
    "hist_M30 = make_plot(plotname, hist, edges, hist_M30_value_percentile_80)\n",
    "\n",
    "####################################################\n",
    "# H1 hist\n",
    "\n",
    "plotname = symbol +\" \" +year +\" H1\" \n",
    "\n",
    "\n",
    "measured =  dataframe_M30_95percentile['deltaPips']\n",
    "\n",
    "edges_improved = np.histogram_bin_edges(measured, bins=\"sqrt\")\n",
    "hist, edges = np.histogram(measured, density=False, bins= edges_improved)\n",
    "#hist, edges = np.histogram(measured, density=False, bins= hist_H1_value_percentile_95)\n",
    "hist_H1 = make_plot(plotname, hist, edges, hist_H1_value_percentile_80)\n",
    "\n",
    "\n",
    "#######################################################################################\n",
    "output_file('Candlesizes_'+symbol+'_'+year+'.html', title=\"Candelesize in dependency of Timeframes.py example\")\n",
    "\n",
    "show(gridplot([hist_M1,hist_M5,hist_M30,hist_H1], ncols=2, plot_width=800, plot_height=400, toolbar_location=None))\n",
    "#https://towardsdatascience.com/data-visualization-with-bokeh-in-python-part-one-getting-started-a11655a467d4"
   ]
  },
  {
   "cell_type": "markdown",
   "metadata": {},
   "source": [
    "#### Bonus: Histogramm by MathPlot"
   ]
  },
  {
   "cell_type": "code",
   "execution_count": 347,
   "metadata": {},
   "outputs": [
    {
     "ename": "NameError",
     "evalue": "name 'Text' is not defined",
     "output_type": "error",
     "traceback": [
      "\u001b[1;31m---------------------------------------------------------------------------\u001b[0m",
      "\u001b[1;31mNameError\u001b[0m                                 Traceback (most recent call last)",
      "\u001b[1;32m<ipython-input-347-ab1ecc0c4768>\u001b[0m in \u001b[0;36m<module>\u001b[1;34m\u001b[0m\n\u001b[0;32m      2\u001b[0m \u001b[0m_\u001b[0m \u001b[1;33m=\u001b[0m \u001b[0mplt\u001b[0m\u001b[1;33m.\u001b[0m\u001b[0mhist\u001b[0m\u001b[1;33m(\u001b[0m\u001b[0mdataframe_M1_95percentile\u001b[0m\u001b[1;33m[\u001b[0m\u001b[1;34m'deltaPips'\u001b[0m\u001b[1;33m]\u001b[0m\u001b[1;33m,\u001b[0m \u001b[0mbins\u001b[0m\u001b[1;33m=\u001b[0m\u001b[1;34m'auto'\u001b[0m\u001b[1;33m)\u001b[0m  \u001b[1;31m# arguments are passed to np.histogram\u001b[0m\u001b[1;33m\u001b[0m\u001b[1;33m\u001b[0m\u001b[0m\n\u001b[0;32m      3\u001b[0m \u001b[0mplt\u001b[0m\u001b[1;33m.\u001b[0m\u001b[0mtitle\u001b[0m\u001b[1;33m(\u001b[0m\u001b[1;34m\"Histogram with 'auto' bins\"\u001b[0m\u001b[1;33m)\u001b[0m\u001b[1;33m\u001b[0m\u001b[1;33m\u001b[0m\u001b[0m\n\u001b[1;32m----> 4\u001b[1;33m \u001b[0mText\u001b[0m\u001b[1;33m(\u001b[0m\u001b[1;36m0.5\u001b[0m\u001b[1;33m,\u001b[0m \u001b[1;36m1.0\u001b[0m\u001b[1;33m,\u001b[0m \u001b[1;34m\"Histogram with 'auto' bins\"\u001b[0m\u001b[1;33m)\u001b[0m\u001b[1;33m\u001b[0m\u001b[1;33m\u001b[0m\u001b[0m\n\u001b[0m\u001b[0;32m      5\u001b[0m \u001b[0mplt\u001b[0m\u001b[1;33m.\u001b[0m\u001b[0mshow\u001b[0m\u001b[1;33m(\u001b[0m\u001b[1;33m)\u001b[0m\u001b[1;33m\u001b[0m\u001b[1;33m\u001b[0m\u001b[0m\n",
      "\u001b[1;31mNameError\u001b[0m: name 'Text' is not defined"
     ]
    },
    {
     "data": {
      "image/png": "[encoded data removed]",
      "text/plain": [
       "<Figure size 432x288 with 1 Axes>"
      ]
     },
     "metadata": {
      "needs_background": "light"
     },
     "output_type": "display_data"
    }
   ],
   "source": [
    "# matplot histogram\n",
    "_ = plt.hist(dataframe_M1_95percentile['deltaPips'], bins='auto')  # arguments are passed to np.histogram\n",
    "plt.title(\"Histogram with 'auto' bins\")\n",
    "Text(0.5, 1.0, \"Histogram with 'auto' bins\")\n",
    "plt.show()"
   ]
  },
  {
   "cell_type": "markdown",
   "metadata": {},
   "source": [
    "#### Bonus: Histogram by Pandas"
   ]
  },
  {
   "cell_type": "code",
   "execution_count": 348,
   "metadata": {},
   "outputs": [
    {
     "data": {
      "text/plain": [
       "count    308354.000000\n",
       "mean         60.975074\n",
       "std          47.757549\n",
       "min           0.000000\n",
       "25%          29.000000\n",
       "50%          50.000000\n",
       "75%          80.000000\n",
       "80%         100.000000\n",
       "90%         130.000000\n",
       "95%         180.000000\n",
       "100%        181.000000\n",
       "max         181.000000\n",
       "Name: deltaPips, dtype: float64"
      ]
     },
     "execution_count": 348,
     "metadata": {},
     "output_type": "execute_result"
    },
    {
     "data": {
      "image/png": "[encoded data removed]",
      "text/plain": [
       "<Figure size 432x288 with 1 Axes>"
      ]
     },
     "metadata": {
      "needs_background": "light"
     },
     "output_type": "display_data"
    }
   ],
   "source": [
    "hist_M1_95percentile = dataframe_M1_95percentile['deltaPips'].hist(bins=hist_M1_value_percentile_95+1)\n",
    "dataframe_M1_95percentile['deltaPips'].describe(percentiles=[0.25,0.5,0.75,0.8,0.9,0.95,1])"
   ]
  },
  {
   "cell_type": "markdown",
   "metadata": {},
   "source": [
    "#### development Protocol\n",
    "\n",
    "issues \n",
    "Get Histogram\n",
    "-use bokeh and numpy.histogram\n",
    "Show histogram for datasets with numbers > 1000 \n",
    "automatisation"
   ]
  }
 ],
 "metadata": {
  "kernelspec": {
   "display_name": "Python 3",
   "language": "python",
   "name": "python3"
  },
  "language_info": {
   "codemirror_mode": {
    "name": "ipython",
    "version": 3
   },
   "file_extension": ".py",
   "mimetype": "text/x-python",
   "name": "python",
   "nbconvert_exporter": "python",
   "pygments_lexer": "ipython3",
   "version": "3.8.5"
  }
 },
 "nbformat": 4,
 "nbformat_minor": 4
}
